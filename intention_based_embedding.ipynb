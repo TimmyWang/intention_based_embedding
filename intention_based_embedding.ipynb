{
 "cells": [
  {
   "cell_type": "markdown",
   "metadata": {},
   "source": [
    "## Data preparation"
   ]
  },
  {
   "cell_type": "code",
   "execution_count": 1,
   "metadata": {},
   "outputs": [],
   "source": [
    "from codes import data as d\n",
    "import numpy as np"
   ]
  },
  {
   "cell_type": "code",
   "execution_count": 2,
   "metadata": {},
   "outputs": [],
   "source": [
    "# Scenario: customers come to an e-commerce website only for 3 purposes\n",
    "# (ex: buying gifts for girlfriend, for Dad, for children)\n",
    "# with weights being 2:1:3\n",
    "fd = d.FakeData([2,1,3])\n",
    "\n",
    "# There are 4 groups of products on the website\n",
    "# The first group has 50 items and it only serves the purpose for girlfriend's gift \n",
    "# (That is, No one will buys items in this group for Dad or children)\n",
    "fd.add_group([1,0,0],50)\n",
    "fd.add_group([0,1,0],50)\n",
    "fd.add_group([0,0,1],50)\n",
    "fd.add_group([1,1,1],50)\n",
    "\n",
    "fd.get_ready()"
   ]
  },
  {
   "cell_type": "code",
   "execution_count": 3,
   "metadata": {},
   "outputs": [
    {
     "data": {
      "text/plain": [
       "[[0.75, 0.0, 0.0, 0.25], [0.0, 0.75, 0.0, 0.25], [0.0, 0.0, 0.75, 0.25]]"
      ]
     },
     "execution_count": 3,
     "metadata": {},
     "output_type": "execute_result"
    }
   ],
   "source": [
    "# When a cutomer looks for gift for girlfriend, \n",
    "# he will spend 75% of the time browsing items in group 1, \n",
    "# 0% of the time in group 2 and 3, and 25% og the timein group 4\n",
    "fd.group_prob_by_intention"
   ]
  },
  {
   "cell_type": "code",
   "execution_count": 4,
   "metadata": {
    "scrolled": true
   },
   "outputs": [],
   "source": [
    "# Generating pairs of items that often be browsed together\n",
    "item_pairs = fd.generate_pairs(10000)\n",
    "item1_list, item2_list = list(zip(*item_pairs))\n",
    "\n",
    "# convert to the format for feeding into the model\n",
    "data_num = len(item1_list)\n",
    "item1_list = np.array(item1_list).reshape(data_num,1)\n",
    "item2_list = np.array(item2_list).reshape(data_num,1)\n",
    "output = np.zeros((data_num,1))"
   ]
  },
  {
   "cell_type": "code",
   "execution_count": 5,
   "metadata": {},
   "outputs": [],
   "source": []
  },
  {
   "cell_type": "markdown",
   "metadata": {},
   "source": [
    "## Training"
   ]
  },
  {
   "cell_type": "code",
   "execution_count": 7,
   "metadata": {},
   "outputs": [
    {
     "name": "stderr",
     "output_type": "stream",
     "text": [
      "Using TensorFlow backend.\n"
     ]
    }
   ],
   "source": [
    "from codes import model as m\n",
    "import keras\n",
    "from keras.callbacks import ModelCheckpoint"
   ]
  },
  {
   "cell_type": "code",
   "execution_count": 68,
   "metadata": {},
   "outputs": [],
   "source": [
    "item_num = fd.sizes[-1] # num of total items\n",
    "embedding_size = 3\n",
    "model = m.get_model(item_num,embedding_size)"
   ]
  },
  {
   "cell_type": "code",
   "execution_count": 69,
   "metadata": {},
   "outputs": [
    {
     "name": "stdout",
     "output_type": "stream",
     "text": [
      "Model: \"model_5\"\n",
      "__________________________________________________________________________________________________\n",
      "Layer (type)                    Output Shape         Param #     Connected to                     \n",
      "==================================================================================================\n",
      "input_9 (InputLayer)            (None, 1)            0                                            \n",
      "__________________________________________________________________________________________________\n",
      "input_10 (InputLayer)           (None, 1)            0                                            \n",
      "__________________________________________________________________________________________________\n",
      "item_embedding (Embedding)      (None, 1, 3)         600         input_9[0][0]                    \n",
      "                                                                 input_10[0][0]                   \n",
      "__________________________________________________________________________________________________\n",
      "lambda_5 (Lambda)               (None, 1)            0           item_embedding[0][0]             \n",
      "                                                                 item_embedding[1][0]             \n",
      "==================================================================================================\n",
      "Total params: 600\n",
      "Trainable params: 600\n",
      "Non-trainable params: 0\n",
      "__________________________________________________________________________________________________\n"
     ]
    }
   ],
   "source": [
    "model.summary()"
   ]
  },
  {
   "cell_type": "code",
   "execution_count": 70,
   "metadata": {},
   "outputs": [],
   "source": [
    "optimizer = keras.optimizers.Adam(learning_rate=0.001)\n",
    "model.compile(optimizer=optimizer, loss='mse')"
   ]
  },
  {
   "cell_type": "code",
   "execution_count": 73,
   "metadata": {},
   "outputs": [],
   "source": [
    "batch_size = 512\n",
    "no_epochs = 500\n",
    "validation_split = 0.2\n",
    "\n",
    "checkpoint = ModelCheckpoint(\n",
    "    \"models/best_model.hdf5\", monitor='val_loss', verbose=0, save_best_only=True, mode='auto', period=1\n",
    ")\n",
    "\n",
    "# start training\n",
    "history = model.fit(\n",
    "    [item1_list,item2_list], output, \n",
    "    epochs = no_epochs, batch_size = batch_size, verbose=0, \n",
    "    validation_split = validation_split, callbacks=[checkpoint]\n",
    ")"
   ]
  },
  {
   "cell_type": "code",
   "execution_count": 74,
   "metadata": {},
   "outputs": [
    {
     "data": {
      "image/png": "[encoded data removed]",
      "text/plain": [
       "<Figure size 432x288 with 1 Axes>"
      ]
     },
     "metadata": {
      "needs_background": "light"
     },
     "output_type": "display_data"
    }
   ],
   "source": [
    "import matplotlib.pyplot as plt\n",
    "\n",
    "# visualization of training and validation loss \n",
    "loss = history.history['loss']\n",
    "val_loss = history.history['val_loss']\n",
    "epochs = range(1, len(loss) + 1)\n",
    "\n",
    "plt.plot(epochs, loss, 'b', label='Training loss')\n",
    "plt.plot(epochs, val_loss, 'g', label='Validation loss')\n",
    "plt.title('Training and Validation loss')\n",
    "plt.legend()\n",
    "plt.show()"
   ]
  },
  {
   "cell_type": "markdown",
   "metadata": {},
   "source": [
    "## Embedding visualization"
   ]
  },
  {
   "cell_type": "code",
   "execution_count": 65,
   "metadata": {},
   "outputs": [],
   "source": [
    "from sklearn.manifold import TSNE"
   ]
  },
  {
   "cell_type": "code",
   "execution_count": 75,
   "metadata": {},
   "outputs": [],
   "source": [
    "item_embed = model.get_layer(\"item_embedding\").get_weights()[0]\n",
    "item_embed = TSNE(n_components=2).fit_transform(item_embed)"
   ]
  },
  {
   "cell_type": "code",
   "execution_count": 76,
   "metadata": {},
   "outputs": [
    {
     "data": {
      "text/plain": [
       "<matplotlib.collections.PathCollection at 0x7fc6741dae90>"
      ]
     },
     "execution_count": 76,
     "metadata": {},
     "output_type": "execute_result"
    },
    {
     "data": {
      "image/png": "[encoded data removed]",
      "text/plain": [
       "<Figure size 432x288 with 1 Axes>"
      ]
     },
     "metadata": {
      "needs_background": "light"
     },
     "output_type": "display_data"
    }
   ],
   "source": [
    "# Items belonging to different groups are seperated as expected\n",
    "# It also makes sense that group 4 (yellow) lies in the middle, surrounded by the other three groups\n",
    "x, y = zip(*item_embed) \n",
    "item_color = fd.get_color_list(['r','b','g','y'])\n",
    "plt.scatter(x,y,c=item_color,alpha=0.5)"
   ]
  },
  {
   "cell_type": "code",
   "execution_count": null,
   "metadata": {},
   "outputs": [],
   "source": []
  },
  {
   "cell_type": "code",
   "execution_count": null,
   "metadata": {},
   "outputs": [],
   "source": []
  }
 ],
 "metadata": {
  "kernelspec": {
   "display_name": "Python [conda env:root] *",
   "language": "python",
   "name": "conda-root-py"
  },
  "language_info": {
   "codemirror_mode": {
    "name": "ipython",
    "version": 3
   },
   "file_extension": ".py",
   "mimetype": "text/x-python",
   "name": "python",
   "nbconvert_exporter": "python",
   "pygments_lexer": "ipython3",
   "version": "3.7.6"
  }
 },
 "nbformat": 4,
 "nbformat_minor": 4
}
